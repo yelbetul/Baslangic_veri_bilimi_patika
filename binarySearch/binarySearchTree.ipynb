{
 "cells": [
  {
   "cell_type": "raw",
   "id": "fdaeec48-d0ce-4514-9502-531a9fb7533c",
   "metadata": {
    "tags": []
   },
   "source": [
    "Binary Search Tree (BST), her düğümde sol alt ağacın tüm değerlerinin düğüm değerinden küçük, \n",
    "Sağ alt ağacın tüm değerlerinin ise düğüm değerinden büyük olduğu bir ağaç yapısıdır.\n",
    "\n",
    "Verilen dizi: [7, 5, 1, 8, 3, 6, 0, 9, 4, 2]\n",
    "\n",
    "Bu diziye göre Binary Search Tree (BST) oluşturulması aşağıdaki gibi olacaktır:\n",
    "\n",
    "    * İlk eleman 7'yi root olarak alırız.\n",
    "    \n",
    "    * İkinci eleman 5, root'tan küçük olduğu için sol çocuk olur.\n",
    "    \n",
    "    * Üçüncü eleman 1, 5'ten küçük olduğu için 5'in sol çocuğu olur.\n",
    "    \n",
    "    * Dördüncü eleman 8, root'tan büyük olduğu için sağ çocuk olur.\n",
    "    \n",
    "    * Beşinci eleman 3, 1'den büyük ama 5'ten küçük olduğu için 1'in sağ çocuğu olur.\n",
    "    \n",
    "    * Altıncı eleman 6, 5'ten büyük ama 7'den küçük olduğu için 5'in sağ çocuğu olur.\n",
    "    \n",
    "    * Yedinci eleman 0, 1'den küçük olduğu için 1'in sol çocuğu olur.\n",
    "    \n",
    "    * Sekizinci eleman 9, root'tan ve 8'den büyük olduğu için 8'in sağ çocuğu olur.\n",
    "    \n",
    "    * Dokuzuncu eleman 4, 3'ten büyük ama 5'ten küçük olduğu için 3'ün sağ çocuğu olur.\n",
    "    \n",
    "    * Onuncu eleman 2, 1'den büyük ama 3'ten küçük olduğu için 3'ün sol çocuğu olur.\n",
    "\n",
    "Bu işlemlerin sonunda oluşturulan Binary Search Tree aşağıdaki gibi olur:"
   ]
  },
  {
   "cell_type": "raw",
   "id": "69fa0777-9f45-4d62-bdf0-144fb2c443eb",
   "metadata": {
    "tags": []
   },
   "source": [
    "       7  \n",
    "      / \\\n",
    "     5   8\n",
    "    / \\   \\\n",
    "   1   6   9 \n",
    "  / \\   \n",
    " 0   3  \n",
    "    / \\\n",
    "   2   4  "
   ]
  },
  {
   "cell_type": "code",
   "execution_count": null,
   "id": "3d175800-29fc-4677-86d5-c541de37862a",
   "metadata": {},
   "outputs": [],
   "source": []
  }
 ],
 "metadata": {
  "kernelspec": {
   "display_name": "Python 3 (ipykernel)",
   "language": "python",
   "name": "python3"
  },
  "language_info": {
   "codemirror_mode": {
    "name": "ipython",
    "version": 3
   },
   "file_extension": ".py",
   "mimetype": "text/x-python",
   "name": "python",
   "nbconvert_exporter": "python",
   "pygments_lexer": "ipython3",
   "version": "3.11.3"
  }
 },
 "nbformat": 4,
 "nbformat_minor": 5
}
